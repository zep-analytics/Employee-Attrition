{
 "cells": [
  {
   "cell_type": "markdown",
   "metadata": {},
   "source": [
    "### Importing Libraries"
   ]
  },
  {
   "cell_type": "code",
   "execution_count": 2,
   "metadata": {},
   "outputs": [],
   "source": [
    "import pandas as pd \n",
    "import matplotlib.pyplot as plt \n",
    "import seaborn as sns \n",
    "\n",
    "from collections import Counter\n"
   ]
  },
  {
   "cell_type": "markdown",
   "metadata": {},
   "source": [
    "### Importing the Data for Data Exploration Project"
   ]
  },
  {
   "cell_type": "code",
   "execution_count": 3,
   "metadata": {},
   "outputs": [],
   "source": [
    "filepath=\"employee_attrition.csv\"\n",
    "data=pd.read_csv(filepath,parse_dates=['birthdate_key','recorddate_key','orighiredate_key','terminationdate_key'])\n",
    "# reading data using pandas\n"
   ]
  },
  {
   "cell_type": "code",
   "execution_count": 4,
   "metadata": {},
   "outputs": [
    {
     "data": {
      "text/plain": [
       "(49653, 18)"
      ]
     },
     "execution_count": 4,
     "metadata": {},
     "output_type": "execute_result"
    }
   ],
   "source": [
    "# seeing the shape of the data and what the data looks like.\n",
    "data.shape\n"
   ]
  },
  {
   "cell_type": "code",
   "execution_count": 5,
   "metadata": {},
   "outputs": [
    {
     "data": {
      "text/html": [
       "<div>\n",
       "<style scoped>\n",
       "    .dataframe tbody tr th:only-of-type {\n",
       "        vertical-align: middle;\n",
       "    }\n",
       "\n",
       "    .dataframe tbody tr th {\n",
       "        vertical-align: top;\n",
       "    }\n",
       "\n",
       "    .dataframe thead th {\n",
       "        text-align: right;\n",
       "    }\n",
       "</style>\n",
       "<table border=\"1\" class=\"dataframe\">\n",
       "  <thead>\n",
       "    <tr style=\"text-align: right;\">\n",
       "      <th></th>\n",
       "      <th>EmployeeID</th>\n",
       "      <th>recorddate_key</th>\n",
       "      <th>birthdate_key</th>\n",
       "      <th>orighiredate_key</th>\n",
       "      <th>terminationdate_key</th>\n",
       "      <th>age</th>\n",
       "      <th>length_of_service</th>\n",
       "      <th>city_name</th>\n",
       "      <th>department_name</th>\n",
       "      <th>job_title</th>\n",
       "      <th>store_name</th>\n",
       "      <th>gender_short</th>\n",
       "      <th>gender_full</th>\n",
       "      <th>termreason_desc</th>\n",
       "      <th>termtype_desc</th>\n",
       "      <th>STATUS_YEAR</th>\n",
       "      <th>STATUS</th>\n",
       "      <th>BUSINESS_UNIT</th>\n",
       "    </tr>\n",
       "  </thead>\n",
       "  <tbody>\n",
       "    <tr>\n",
       "      <th>0</th>\n",
       "      <td>1318</td>\n",
       "      <td>2006-12-31</td>\n",
       "      <td>1954-01-03</td>\n",
       "      <td>1989-08-28</td>\n",
       "      <td>1900-01-01</td>\n",
       "      <td>52</td>\n",
       "      <td>17</td>\n",
       "      <td>Vancouver</td>\n",
       "      <td>Executive</td>\n",
       "      <td>CEO</td>\n",
       "      <td>35</td>\n",
       "      <td>M</td>\n",
       "      <td>Male</td>\n",
       "      <td>Not Applicable</td>\n",
       "      <td>Not Applicable</td>\n",
       "      <td>2006</td>\n",
       "      <td>ACTIVE</td>\n",
       "      <td>HEADOFFICE</td>\n",
       "    </tr>\n",
       "    <tr>\n",
       "      <th>1</th>\n",
       "      <td>1318</td>\n",
       "      <td>2007-12-31</td>\n",
       "      <td>1954-01-03</td>\n",
       "      <td>1989-08-28</td>\n",
       "      <td>1900-01-01</td>\n",
       "      <td>53</td>\n",
       "      <td>18</td>\n",
       "      <td>Vancouver</td>\n",
       "      <td>Executive</td>\n",
       "      <td>CEO</td>\n",
       "      <td>35</td>\n",
       "      <td>M</td>\n",
       "      <td>Male</td>\n",
       "      <td>Not Applicable</td>\n",
       "      <td>Not Applicable</td>\n",
       "      <td>2007</td>\n",
       "      <td>ACTIVE</td>\n",
       "      <td>HEADOFFICE</td>\n",
       "    </tr>\n",
       "    <tr>\n",
       "      <th>2</th>\n",
       "      <td>1318</td>\n",
       "      <td>2008-12-31</td>\n",
       "      <td>1954-01-03</td>\n",
       "      <td>1989-08-28</td>\n",
       "      <td>1900-01-01</td>\n",
       "      <td>54</td>\n",
       "      <td>19</td>\n",
       "      <td>Vancouver</td>\n",
       "      <td>Executive</td>\n",
       "      <td>CEO</td>\n",
       "      <td>35</td>\n",
       "      <td>M</td>\n",
       "      <td>Male</td>\n",
       "      <td>Not Applicable</td>\n",
       "      <td>Not Applicable</td>\n",
       "      <td>2008</td>\n",
       "      <td>ACTIVE</td>\n",
       "      <td>HEADOFFICE</td>\n",
       "    </tr>\n",
       "    <tr>\n",
       "      <th>3</th>\n",
       "      <td>1318</td>\n",
       "      <td>2009-12-31</td>\n",
       "      <td>1954-01-03</td>\n",
       "      <td>1989-08-28</td>\n",
       "      <td>1900-01-01</td>\n",
       "      <td>55</td>\n",
       "      <td>20</td>\n",
       "      <td>Vancouver</td>\n",
       "      <td>Executive</td>\n",
       "      <td>CEO</td>\n",
       "      <td>35</td>\n",
       "      <td>M</td>\n",
       "      <td>Male</td>\n",
       "      <td>Not Applicable</td>\n",
       "      <td>Not Applicable</td>\n",
       "      <td>2009</td>\n",
       "      <td>ACTIVE</td>\n",
       "      <td>HEADOFFICE</td>\n",
       "    </tr>\n",
       "    <tr>\n",
       "      <th>4</th>\n",
       "      <td>1318</td>\n",
       "      <td>2010-12-31</td>\n",
       "      <td>1954-01-03</td>\n",
       "      <td>1989-08-28</td>\n",
       "      <td>1900-01-01</td>\n",
       "      <td>56</td>\n",
       "      <td>21</td>\n",
       "      <td>Vancouver</td>\n",
       "      <td>Executive</td>\n",
       "      <td>CEO</td>\n",
       "      <td>35</td>\n",
       "      <td>M</td>\n",
       "      <td>Male</td>\n",
       "      <td>Not Applicable</td>\n",
       "      <td>Not Applicable</td>\n",
       "      <td>2010</td>\n",
       "      <td>ACTIVE</td>\n",
       "      <td>HEADOFFICE</td>\n",
       "    </tr>\n",
       "  </tbody>\n",
       "</table>\n",
       "</div>"
      ],
      "text/plain": [
       "   EmployeeID recorddate_key birthdate_key orighiredate_key  \\\n",
       "0        1318     2006-12-31    1954-01-03       1989-08-28   \n",
       "1        1318     2007-12-31    1954-01-03       1989-08-28   \n",
       "2        1318     2008-12-31    1954-01-03       1989-08-28   \n",
       "3        1318     2009-12-31    1954-01-03       1989-08-28   \n",
       "4        1318     2010-12-31    1954-01-03       1989-08-28   \n",
       "\n",
       "  terminationdate_key  age  length_of_service  city_name department_name  \\\n",
       "0          1900-01-01   52                 17  Vancouver       Executive   \n",
       "1          1900-01-01   53                 18  Vancouver       Executive   \n",
       "2          1900-01-01   54                 19  Vancouver       Executive   \n",
       "3          1900-01-01   55                 20  Vancouver       Executive   \n",
       "4          1900-01-01   56                 21  Vancouver       Executive   \n",
       "\n",
       "  job_title  store_name gender_short gender_full termreason_desc  \\\n",
       "0       CEO          35            M        Male  Not Applicable   \n",
       "1       CEO          35            M        Male  Not Applicable   \n",
       "2       CEO          35            M        Male  Not Applicable   \n",
       "3       CEO          35            M        Male  Not Applicable   \n",
       "4       CEO          35            M        Male  Not Applicable   \n",
       "\n",
       "    termtype_desc  STATUS_YEAR  STATUS BUSINESS_UNIT  \n",
       "0  Not Applicable         2006  ACTIVE    HEADOFFICE  \n",
       "1  Not Applicable         2007  ACTIVE    HEADOFFICE  \n",
       "2  Not Applicable         2008  ACTIVE    HEADOFFICE  \n",
       "3  Not Applicable         2009  ACTIVE    HEADOFFICE  \n",
       "4  Not Applicable         2010  ACTIVE    HEADOFFICE  "
      ]
     },
     "execution_count": 5,
     "metadata": {},
     "output_type": "execute_result"
    }
   ],
   "source": [
    "data.head()"
   ]
  },
  {
   "cell_type": "code",
   "execution_count": 6,
   "metadata": {},
   "outputs": [
    {
     "data": {
      "text/html": [
       "<div>\n",
       "<style scoped>\n",
       "    .dataframe tbody tr th:only-of-type {\n",
       "        vertical-align: middle;\n",
       "    }\n",
       "\n",
       "    .dataframe tbody tr th {\n",
       "        vertical-align: top;\n",
       "    }\n",
       "\n",
       "    .dataframe thead th {\n",
       "        text-align: right;\n",
       "    }\n",
       "</style>\n",
       "<table border=\"1\" class=\"dataframe\">\n",
       "  <thead>\n",
       "    <tr style=\"text-align: right;\">\n",
       "      <th></th>\n",
       "      <th>EmployeeID</th>\n",
       "      <th>recorddate_key</th>\n",
       "      <th>birthdate_key</th>\n",
       "      <th>orighiredate_key</th>\n",
       "      <th>terminationdate_key</th>\n",
       "      <th>age</th>\n",
       "      <th>length_of_service</th>\n",
       "      <th>city_name</th>\n",
       "      <th>department_name</th>\n",
       "      <th>job_title</th>\n",
       "      <th>store_name</th>\n",
       "      <th>gender_short</th>\n",
       "      <th>gender_full</th>\n",
       "      <th>termreason_desc</th>\n",
       "      <th>termtype_desc</th>\n",
       "      <th>STATUS_YEAR</th>\n",
       "      <th>STATUS</th>\n",
       "      <th>BUSINESS_UNIT</th>\n",
       "    </tr>\n",
       "  </thead>\n",
       "  <tbody>\n",
       "    <tr>\n",
       "      <th>49648</th>\n",
       "      <td>8258</td>\n",
       "      <td>2015-12-01</td>\n",
       "      <td>1994-05-28</td>\n",
       "      <td>2013-08-19</td>\n",
       "      <td>2015-12-30</td>\n",
       "      <td>21</td>\n",
       "      <td>2</td>\n",
       "      <td>Valemount</td>\n",
       "      <td>Dairy</td>\n",
       "      <td>Dairy Person</td>\n",
       "      <td>34</td>\n",
       "      <td>M</td>\n",
       "      <td>Male</td>\n",
       "      <td>Layoff</td>\n",
       "      <td>Involuntary</td>\n",
       "      <td>2015</td>\n",
       "      <td>TERMINATED</td>\n",
       "      <td>STORES</td>\n",
       "    </tr>\n",
       "    <tr>\n",
       "      <th>49649</th>\n",
       "      <td>8264</td>\n",
       "      <td>2013-08-01</td>\n",
       "      <td>1994-06-13</td>\n",
       "      <td>2013-08-27</td>\n",
       "      <td>2013-08-30</td>\n",
       "      <td>19</td>\n",
       "      <td>0</td>\n",
       "      <td>Vancouver</td>\n",
       "      <td>Customer Service</td>\n",
       "      <td>Cashier</td>\n",
       "      <td>44</td>\n",
       "      <td>F</td>\n",
       "      <td>Female</td>\n",
       "      <td>Resignaton</td>\n",
       "      <td>Voluntary</td>\n",
       "      <td>2013</td>\n",
       "      <td>TERMINATED</td>\n",
       "      <td>STORES</td>\n",
       "    </tr>\n",
       "    <tr>\n",
       "      <th>49650</th>\n",
       "      <td>8279</td>\n",
       "      <td>2015-12-01</td>\n",
       "      <td>1994-07-18</td>\n",
       "      <td>2013-09-15</td>\n",
       "      <td>2015-12-30</td>\n",
       "      <td>21</td>\n",
       "      <td>2</td>\n",
       "      <td>White Rock</td>\n",
       "      <td>Customer Service</td>\n",
       "      <td>Cashier</td>\n",
       "      <td>39</td>\n",
       "      <td>F</td>\n",
       "      <td>Female</td>\n",
       "      <td>Layoff</td>\n",
       "      <td>Involuntary</td>\n",
       "      <td>2015</td>\n",
       "      <td>TERMINATED</td>\n",
       "      <td>STORES</td>\n",
       "    </tr>\n",
       "    <tr>\n",
       "      <th>49651</th>\n",
       "      <td>8296</td>\n",
       "      <td>2013-12-01</td>\n",
       "      <td>1994-09-02</td>\n",
       "      <td>2013-10-09</td>\n",
       "      <td>2013-12-31</td>\n",
       "      <td>19</td>\n",
       "      <td>0</td>\n",
       "      <td>Kelowna</td>\n",
       "      <td>Customer Service</td>\n",
       "      <td>Cashier</td>\n",
       "      <td>16</td>\n",
       "      <td>F</td>\n",
       "      <td>Female</td>\n",
       "      <td>Resignaton</td>\n",
       "      <td>Voluntary</td>\n",
       "      <td>2013</td>\n",
       "      <td>TERMINATED</td>\n",
       "      <td>STORES</td>\n",
       "    </tr>\n",
       "    <tr>\n",
       "      <th>49652</th>\n",
       "      <td>8321</td>\n",
       "      <td>2014-12-01</td>\n",
       "      <td>1994-11-28</td>\n",
       "      <td>2013-11-24</td>\n",
       "      <td>2014-12-30</td>\n",
       "      <td>20</td>\n",
       "      <td>1</td>\n",
       "      <td>Grand Forks</td>\n",
       "      <td>Customer Service</td>\n",
       "      <td>Cashier</td>\n",
       "      <td>13</td>\n",
       "      <td>F</td>\n",
       "      <td>Female</td>\n",
       "      <td>Layoff</td>\n",
       "      <td>Involuntary</td>\n",
       "      <td>2014</td>\n",
       "      <td>TERMINATED</td>\n",
       "      <td>STORES</td>\n",
       "    </tr>\n",
       "  </tbody>\n",
       "</table>\n",
       "</div>"
      ],
      "text/plain": [
       "       EmployeeID recorddate_key birthdate_key orighiredate_key  \\\n",
       "49648        8258     2015-12-01    1994-05-28       2013-08-19   \n",
       "49649        8264     2013-08-01    1994-06-13       2013-08-27   \n",
       "49650        8279     2015-12-01    1994-07-18       2013-09-15   \n",
       "49651        8296     2013-12-01    1994-09-02       2013-10-09   \n",
       "49652        8321     2014-12-01    1994-11-28       2013-11-24   \n",
       "\n",
       "      terminationdate_key  age  length_of_service    city_name  \\\n",
       "49648          2015-12-30   21                  2    Valemount   \n",
       "49649          2013-08-30   19                  0    Vancouver   \n",
       "49650          2015-12-30   21                  2   White Rock   \n",
       "49651          2013-12-31   19                  0      Kelowna   \n",
       "49652          2014-12-30   20                  1  Grand Forks   \n",
       "\n",
       "        department_name     job_title  store_name gender_short gender_full  \\\n",
       "49648             Dairy  Dairy Person          34            M        Male   \n",
       "49649  Customer Service       Cashier          44            F      Female   \n",
       "49650  Customer Service       Cashier          39            F      Female   \n",
       "49651  Customer Service       Cashier          16            F      Female   \n",
       "49652  Customer Service       Cashier          13            F      Female   \n",
       "\n",
       "      termreason_desc termtype_desc  STATUS_YEAR      STATUS BUSINESS_UNIT  \n",
       "49648          Layoff   Involuntary         2015  TERMINATED        STORES  \n",
       "49649      Resignaton     Voluntary         2013  TERMINATED        STORES  \n",
       "49650          Layoff   Involuntary         2015  TERMINATED        STORES  \n",
       "49651      Resignaton     Voluntary         2013  TERMINATED        STORES  \n",
       "49652          Layoff   Involuntary         2014  TERMINATED        STORES  "
      ]
     },
     "execution_count": 6,
     "metadata": {},
     "output_type": "execute_result"
    }
   ],
   "source": [
    "data.tail()"
   ]
  },
  {
   "cell_type": "code",
   "execution_count": 7,
   "metadata": {},
   "outputs": [
    {
     "name": "stdout",
     "output_type": "stream",
     "text": [
      "<class 'pandas.core.frame.DataFrame'>\n",
      "RangeIndex: 49653 entries, 0 to 49652\n",
      "Data columns (total 18 columns):\n",
      " #   Column               Non-Null Count  Dtype         \n",
      "---  ------               --------------  -----         \n",
      " 0   EmployeeID           49653 non-null  int64         \n",
      " 1   recorddate_key       49653 non-null  datetime64[ns]\n",
      " 2   birthdate_key        49653 non-null  datetime64[ns]\n",
      " 3   orighiredate_key     49653 non-null  datetime64[ns]\n",
      " 4   terminationdate_key  49653 non-null  datetime64[ns]\n",
      " 5   age                  49653 non-null  int64         \n",
      " 6   length_of_service    49653 non-null  int64         \n",
      " 7   city_name            49653 non-null  object        \n",
      " 8   department_name      49653 non-null  object        \n",
      " 9   job_title            49653 non-null  object        \n",
      " 10  store_name           49653 non-null  int64         \n",
      " 11  gender_short         49653 non-null  object        \n",
      " 12  gender_full          49653 non-null  object        \n",
      " 13  termreason_desc      49653 non-null  object        \n",
      " 14  termtype_desc        49653 non-null  object        \n",
      " 15  STATUS_YEAR          49653 non-null  int64         \n",
      " 16  STATUS               49653 non-null  object        \n",
      " 17  BUSINESS_UNIT        49653 non-null  object        \n",
      "dtypes: datetime64[ns](4), int64(5), object(9)\n",
      "memory usage: 6.8+ MB\n"
     ]
    }
   ],
   "source": [
    "data.info()"
   ]
  },
  {
   "cell_type": "markdown",
   "metadata": {},
   "source": [
    "\n",
    "- Data is a mix of string and integer values.\n",
    "\n",
    "- Some features with strings should be dates. We convert it as it may be obvious in the info. The features are recorddate_key, birthdate_key,\n",
    "   orighiredate_key, and terminationdate_key.\n",
    "\n",
    "- EmployeeID is for identification. It shouldn't be used for training the machine learning model, but can be useful for filtering rows.\n",
    "\n",
    "- The termination date uses 1/1/1900 if the employee is still active.\n",
    "\n",
    "- The store_name is given as a number, even though it is a nominal categorical feature. The store name itself is unlikely to be cause of employment \n",
    "\n",
    "    termination, but particular feature values may be associated with particular stores. It could be an interesting separate investigation.\n",
    "\n",
    "- Gender is given in short and full. Only one of them is necessary so one will be dropped.\n",
    "\n",
    "- An employee whose employment is terminated has valid entries for termination date, termination reason and termination type. These 3 features should not \n",
    "\n",
    "    be used for training the machine learning model because the features are results, not predictors, of employment termination. They may be interesting as \n",
    "\n",
    "    labels, however, if the prediction goal changes.\n",
    "\n",
    "- The status_year column repeats information in the record date.\n",
    "\n",
    "- The status column is the label to predict. It should be converted from string to numerical.\n",
    "\n",
    "- this data talk about Couple of years period of records for each employee \n",
    "\n",
    "<hr>"
   ]
  },
  {
   "cell_type": "code",
   "execution_count": 8,
   "metadata": {},
   "outputs": [
    {
     "data": {
      "text/html": [
       "<div>\n",
       "<style scoped>\n",
       "    .dataframe tbody tr th:only-of-type {\n",
       "        vertical-align: middle;\n",
       "    }\n",
       "\n",
       "    .dataframe tbody tr th {\n",
       "        vertical-align: top;\n",
       "    }\n",
       "\n",
       "    .dataframe thead th {\n",
       "        text-align: right;\n",
       "    }\n",
       "</style>\n",
       "<table border=\"1\" class=\"dataframe\">\n",
       "  <thead>\n",
       "    <tr style=\"text-align: right;\">\n",
       "      <th></th>\n",
       "      <th>EmployeeID</th>\n",
       "      <th>recorddate_key</th>\n",
       "      <th>birthdate_key</th>\n",
       "      <th>orighiredate_key</th>\n",
       "      <th>terminationdate_key</th>\n",
       "      <th>age</th>\n",
       "      <th>length_of_service</th>\n",
       "      <th>city_name</th>\n",
       "      <th>department_name</th>\n",
       "      <th>job_title</th>\n",
       "      <th>store_name</th>\n",
       "      <th>gender_short</th>\n",
       "      <th>gender_full</th>\n",
       "      <th>termreason_desc</th>\n",
       "      <th>termtype_desc</th>\n",
       "      <th>STATUS_YEAR</th>\n",
       "      <th>STATUS</th>\n",
       "      <th>BUSINESS_UNIT</th>\n",
       "    </tr>\n",
       "  </thead>\n",
       "  <tbody>\n",
       "    <tr>\n",
       "      <th>0</th>\n",
       "      <td>1318</td>\n",
       "      <td>2006-12-31</td>\n",
       "      <td>1954-01-03</td>\n",
       "      <td>1989-08-28</td>\n",
       "      <td>1900-01-01</td>\n",
       "      <td>52</td>\n",
       "      <td>17</td>\n",
       "      <td>Vancouver</td>\n",
       "      <td>Executive</td>\n",
       "      <td>CEO</td>\n",
       "      <td>35</td>\n",
       "      <td>M</td>\n",
       "      <td>Male</td>\n",
       "      <td>Not Applicable</td>\n",
       "      <td>Not Applicable</td>\n",
       "      <td>2006</td>\n",
       "      <td>ACTIVE</td>\n",
       "      <td>HEADOFFICE</td>\n",
       "    </tr>\n",
       "    <tr>\n",
       "      <th>1</th>\n",
       "      <td>1318</td>\n",
       "      <td>2007-12-31</td>\n",
       "      <td>1954-01-03</td>\n",
       "      <td>1989-08-28</td>\n",
       "      <td>1900-01-01</td>\n",
       "      <td>53</td>\n",
       "      <td>18</td>\n",
       "      <td>Vancouver</td>\n",
       "      <td>Executive</td>\n",
       "      <td>CEO</td>\n",
       "      <td>35</td>\n",
       "      <td>M</td>\n",
       "      <td>Male</td>\n",
       "      <td>Not Applicable</td>\n",
       "      <td>Not Applicable</td>\n",
       "      <td>2007</td>\n",
       "      <td>ACTIVE</td>\n",
       "      <td>HEADOFFICE</td>\n",
       "    </tr>\n",
       "    <tr>\n",
       "      <th>2</th>\n",
       "      <td>1318</td>\n",
       "      <td>2008-12-31</td>\n",
       "      <td>1954-01-03</td>\n",
       "      <td>1989-08-28</td>\n",
       "      <td>1900-01-01</td>\n",
       "      <td>54</td>\n",
       "      <td>19</td>\n",
       "      <td>Vancouver</td>\n",
       "      <td>Executive</td>\n",
       "      <td>CEO</td>\n",
       "      <td>35</td>\n",
       "      <td>M</td>\n",
       "      <td>Male</td>\n",
       "      <td>Not Applicable</td>\n",
       "      <td>Not Applicable</td>\n",
       "      <td>2008</td>\n",
       "      <td>ACTIVE</td>\n",
       "      <td>HEADOFFICE</td>\n",
       "    </tr>\n",
       "    <tr>\n",
       "      <th>3</th>\n",
       "      <td>1318</td>\n",
       "      <td>2009-12-31</td>\n",
       "      <td>1954-01-03</td>\n",
       "      <td>1989-08-28</td>\n",
       "      <td>1900-01-01</td>\n",
       "      <td>55</td>\n",
       "      <td>20</td>\n",
       "      <td>Vancouver</td>\n",
       "      <td>Executive</td>\n",
       "      <td>CEO</td>\n",
       "      <td>35</td>\n",
       "      <td>M</td>\n",
       "      <td>Male</td>\n",
       "      <td>Not Applicable</td>\n",
       "      <td>Not Applicable</td>\n",
       "      <td>2009</td>\n",
       "      <td>ACTIVE</td>\n",
       "      <td>HEADOFFICE</td>\n",
       "    </tr>\n",
       "    <tr>\n",
       "      <th>4</th>\n",
       "      <td>1318</td>\n",
       "      <td>2010-12-31</td>\n",
       "      <td>1954-01-03</td>\n",
       "      <td>1989-08-28</td>\n",
       "      <td>1900-01-01</td>\n",
       "      <td>56</td>\n",
       "      <td>21</td>\n",
       "      <td>Vancouver</td>\n",
       "      <td>Executive</td>\n",
       "      <td>CEO</td>\n",
       "      <td>35</td>\n",
       "      <td>M</td>\n",
       "      <td>Male</td>\n",
       "      <td>Not Applicable</td>\n",
       "      <td>Not Applicable</td>\n",
       "      <td>2010</td>\n",
       "      <td>ACTIVE</td>\n",
       "      <td>HEADOFFICE</td>\n",
       "    </tr>\n",
       "    <tr>\n",
       "      <th>...</th>\n",
       "      <td>...</td>\n",
       "      <td>...</td>\n",
       "      <td>...</td>\n",
       "      <td>...</td>\n",
       "      <td>...</td>\n",
       "      <td>...</td>\n",
       "      <td>...</td>\n",
       "      <td>...</td>\n",
       "      <td>...</td>\n",
       "      <td>...</td>\n",
       "      <td>...</td>\n",
       "      <td>...</td>\n",
       "      <td>...</td>\n",
       "      <td>...</td>\n",
       "      <td>...</td>\n",
       "      <td>...</td>\n",
       "      <td>...</td>\n",
       "      <td>...</td>\n",
       "    </tr>\n",
       "    <tr>\n",
       "      <th>49648</th>\n",
       "      <td>8258</td>\n",
       "      <td>2015-12-01</td>\n",
       "      <td>1994-05-28</td>\n",
       "      <td>2013-08-19</td>\n",
       "      <td>2015-12-30</td>\n",
       "      <td>21</td>\n",
       "      <td>2</td>\n",
       "      <td>Valemount</td>\n",
       "      <td>Dairy</td>\n",
       "      <td>Dairy Person</td>\n",
       "      <td>34</td>\n",
       "      <td>M</td>\n",
       "      <td>Male</td>\n",
       "      <td>Layoff</td>\n",
       "      <td>Involuntary</td>\n",
       "      <td>2015</td>\n",
       "      <td>TERMINATED</td>\n",
       "      <td>STORES</td>\n",
       "    </tr>\n",
       "    <tr>\n",
       "      <th>49649</th>\n",
       "      <td>8264</td>\n",
       "      <td>2013-08-01</td>\n",
       "      <td>1994-06-13</td>\n",
       "      <td>2013-08-27</td>\n",
       "      <td>2013-08-30</td>\n",
       "      <td>19</td>\n",
       "      <td>0</td>\n",
       "      <td>Vancouver</td>\n",
       "      <td>Customer Service</td>\n",
       "      <td>Cashier</td>\n",
       "      <td>44</td>\n",
       "      <td>F</td>\n",
       "      <td>Female</td>\n",
       "      <td>Resignaton</td>\n",
       "      <td>Voluntary</td>\n",
       "      <td>2013</td>\n",
       "      <td>TERMINATED</td>\n",
       "      <td>STORES</td>\n",
       "    </tr>\n",
       "    <tr>\n",
       "      <th>49650</th>\n",
       "      <td>8279</td>\n",
       "      <td>2015-12-01</td>\n",
       "      <td>1994-07-18</td>\n",
       "      <td>2013-09-15</td>\n",
       "      <td>2015-12-30</td>\n",
       "      <td>21</td>\n",
       "      <td>2</td>\n",
       "      <td>White Rock</td>\n",
       "      <td>Customer Service</td>\n",
       "      <td>Cashier</td>\n",
       "      <td>39</td>\n",
       "      <td>F</td>\n",
       "      <td>Female</td>\n",
       "      <td>Layoff</td>\n",
       "      <td>Involuntary</td>\n",
       "      <td>2015</td>\n",
       "      <td>TERMINATED</td>\n",
       "      <td>STORES</td>\n",
       "    </tr>\n",
       "    <tr>\n",
       "      <th>49651</th>\n",
       "      <td>8296</td>\n",
       "      <td>2013-12-01</td>\n",
       "      <td>1994-09-02</td>\n",
       "      <td>2013-10-09</td>\n",
       "      <td>2013-12-31</td>\n",
       "      <td>19</td>\n",
       "      <td>0</td>\n",
       "      <td>Kelowna</td>\n",
       "      <td>Customer Service</td>\n",
       "      <td>Cashier</td>\n",
       "      <td>16</td>\n",
       "      <td>F</td>\n",
       "      <td>Female</td>\n",
       "      <td>Resignaton</td>\n",
       "      <td>Voluntary</td>\n",
       "      <td>2013</td>\n",
       "      <td>TERMINATED</td>\n",
       "      <td>STORES</td>\n",
       "    </tr>\n",
       "    <tr>\n",
       "      <th>49652</th>\n",
       "      <td>8321</td>\n",
       "      <td>2014-12-01</td>\n",
       "      <td>1994-11-28</td>\n",
       "      <td>2013-11-24</td>\n",
       "      <td>2014-12-30</td>\n",
       "      <td>20</td>\n",
       "      <td>1</td>\n",
       "      <td>Grand Forks</td>\n",
       "      <td>Customer Service</td>\n",
       "      <td>Cashier</td>\n",
       "      <td>13</td>\n",
       "      <td>F</td>\n",
       "      <td>Female</td>\n",
       "      <td>Layoff</td>\n",
       "      <td>Involuntary</td>\n",
       "      <td>2014</td>\n",
       "      <td>TERMINATED</td>\n",
       "      <td>STORES</td>\n",
       "    </tr>\n",
       "  </tbody>\n",
       "</table>\n",
       "<p>49653 rows × 18 columns</p>\n",
       "</div>"
      ],
      "text/plain": [
       "       EmployeeID recorddate_key birthdate_key orighiredate_key  \\\n",
       "0            1318     2006-12-31    1954-01-03       1989-08-28   \n",
       "1            1318     2007-12-31    1954-01-03       1989-08-28   \n",
       "2            1318     2008-12-31    1954-01-03       1989-08-28   \n",
       "3            1318     2009-12-31    1954-01-03       1989-08-28   \n",
       "4            1318     2010-12-31    1954-01-03       1989-08-28   \n",
       "...           ...            ...           ...              ...   \n",
       "49648        8258     2015-12-01    1994-05-28       2013-08-19   \n",
       "49649        8264     2013-08-01    1994-06-13       2013-08-27   \n",
       "49650        8279     2015-12-01    1994-07-18       2013-09-15   \n",
       "49651        8296     2013-12-01    1994-09-02       2013-10-09   \n",
       "49652        8321     2014-12-01    1994-11-28       2013-11-24   \n",
       "\n",
       "      terminationdate_key  age  length_of_service    city_name  \\\n",
       "0              1900-01-01   52                 17    Vancouver   \n",
       "1              1900-01-01   53                 18    Vancouver   \n",
       "2              1900-01-01   54                 19    Vancouver   \n",
       "3              1900-01-01   55                 20    Vancouver   \n",
       "4              1900-01-01   56                 21    Vancouver   \n",
       "...                   ...  ...                ...          ...   \n",
       "49648          2015-12-30   21                  2    Valemount   \n",
       "49649          2013-08-30   19                  0    Vancouver   \n",
       "49650          2015-12-30   21                  2   White Rock   \n",
       "49651          2013-12-31   19                  0      Kelowna   \n",
       "49652          2014-12-30   20                  1  Grand Forks   \n",
       "\n",
       "        department_name     job_title  store_name gender_short gender_full  \\\n",
       "0             Executive           CEO          35            M        Male   \n",
       "1             Executive           CEO          35            M        Male   \n",
       "2             Executive           CEO          35            M        Male   \n",
       "3             Executive           CEO          35            M        Male   \n",
       "4             Executive           CEO          35            M        Male   \n",
       "...                 ...           ...         ...          ...         ...   \n",
       "49648             Dairy  Dairy Person          34            M        Male   \n",
       "49649  Customer Service       Cashier          44            F      Female   \n",
       "49650  Customer Service       Cashier          39            F      Female   \n",
       "49651  Customer Service       Cashier          16            F      Female   \n",
       "49652  Customer Service       Cashier          13            F      Female   \n",
       "\n",
       "      termreason_desc   termtype_desc  STATUS_YEAR      STATUS BUSINESS_UNIT  \n",
       "0      Not Applicable  Not Applicable         2006      ACTIVE    HEADOFFICE  \n",
       "1      Not Applicable  Not Applicable         2007      ACTIVE    HEADOFFICE  \n",
       "2      Not Applicable  Not Applicable         2008      ACTIVE    HEADOFFICE  \n",
       "3      Not Applicable  Not Applicable         2009      ACTIVE    HEADOFFICE  \n",
       "4      Not Applicable  Not Applicable         2010      ACTIVE    HEADOFFICE  \n",
       "...               ...             ...          ...         ...           ...  \n",
       "49648          Layoff     Involuntary         2015  TERMINATED        STORES  \n",
       "49649      Resignaton       Voluntary         2013  TERMINATED        STORES  \n",
       "49650          Layoff     Involuntary         2015  TERMINATED        STORES  \n",
       "49651      Resignaton       Voluntary         2013  TERMINATED        STORES  \n",
       "49652          Layoff     Involuntary         2014  TERMINATED        STORES  \n",
       "\n",
       "[49653 rows x 18 columns]"
      ]
     },
     "execution_count": 8,
     "metadata": {},
     "output_type": "execute_result"
    }
   ],
   "source": [
    "# drop the duplications if exist\n",
    "data.drop_duplicates(inplace=True)\n",
    "data"
   ]
  },
  {
   "cell_type": "markdown",
   "metadata": {},
   "source": [
    "# Data Exploration\n",
    "<hr>"
   ]
  },
  {
   "cell_type": "markdown",
   "metadata": {},
   "source": [
    "- check outliers"
   ]
  },
  {
   "cell_type": "code",
   "execution_count": 9,
   "metadata": {},
   "outputs": [
    {
     "data": {
      "text/html": [
       "<div>\n",
       "<style scoped>\n",
       "    .dataframe tbody tr th:only-of-type {\n",
       "        vertical-align: middle;\n",
       "    }\n",
       "\n",
       "    .dataframe tbody tr th {\n",
       "        vertical-align: top;\n",
       "    }\n",
       "\n",
       "    .dataframe thead th {\n",
       "        text-align: right;\n",
       "    }\n",
       "</style>\n",
       "<table border=\"1\" class=\"dataframe\">\n",
       "  <thead>\n",
       "    <tr style=\"text-align: right;\">\n",
       "      <th></th>\n",
       "      <th>EmployeeID</th>\n",
       "      <th>age</th>\n",
       "      <th>length_of_service</th>\n",
       "      <th>store_name</th>\n",
       "      <th>STATUS_YEAR</th>\n",
       "    </tr>\n",
       "  </thead>\n",
       "  <tbody>\n",
       "    <tr>\n",
       "      <th>count</th>\n",
       "      <td>49653.000000</td>\n",
       "      <td>49653.000000</td>\n",
       "      <td>49653.000000</td>\n",
       "      <td>49653.000000</td>\n",
       "      <td>49653.000000</td>\n",
       "    </tr>\n",
       "    <tr>\n",
       "      <th>mean</th>\n",
       "      <td>4859.495740</td>\n",
       "      <td>42.077035</td>\n",
       "      <td>10.434596</td>\n",
       "      <td>27.297605</td>\n",
       "      <td>2010.612612</td>\n",
       "    </tr>\n",
       "    <tr>\n",
       "      <th>std</th>\n",
       "      <td>1826.571142</td>\n",
       "      <td>12.427257</td>\n",
       "      <td>6.325286</td>\n",
       "      <td>13.514134</td>\n",
       "      <td>2.845577</td>\n",
       "    </tr>\n",
       "    <tr>\n",
       "      <th>min</th>\n",
       "      <td>1318.000000</td>\n",
       "      <td>19.000000</td>\n",
       "      <td>0.000000</td>\n",
       "      <td>1.000000</td>\n",
       "      <td>2006.000000</td>\n",
       "    </tr>\n",
       "    <tr>\n",
       "      <th>1%</th>\n",
       "      <td>1417.000000</td>\n",
       "      <td>20.000000</td>\n",
       "      <td>0.000000</td>\n",
       "      <td>1.000000</td>\n",
       "      <td>2006.000000</td>\n",
       "    </tr>\n",
       "    <tr>\n",
       "      <th>25%</th>\n",
       "      <td>3360.000000</td>\n",
       "      <td>31.000000</td>\n",
       "      <td>5.000000</td>\n",
       "      <td>16.000000</td>\n",
       "      <td>2008.000000</td>\n",
       "    </tr>\n",
       "    <tr>\n",
       "      <th>50%</th>\n",
       "      <td>5031.000000</td>\n",
       "      <td>42.000000</td>\n",
       "      <td>10.000000</td>\n",
       "      <td>28.000000</td>\n",
       "      <td>2011.000000</td>\n",
       "    </tr>\n",
       "    <tr>\n",
       "      <th>75%</th>\n",
       "      <td>6335.000000</td>\n",
       "      <td>53.000000</td>\n",
       "      <td>15.000000</td>\n",
       "      <td>42.000000</td>\n",
       "      <td>2013.000000</td>\n",
       "    </tr>\n",
       "    <tr>\n",
       "      <th>99%</th>\n",
       "      <td>8157.480000</td>\n",
       "      <td>65.000000</td>\n",
       "      <td>24.000000</td>\n",
       "      <td>46.000000</td>\n",
       "      <td>2015.000000</td>\n",
       "    </tr>\n",
       "    <tr>\n",
       "      <th>max</th>\n",
       "      <td>8336.000000</td>\n",
       "      <td>65.000000</td>\n",
       "      <td>26.000000</td>\n",
       "      <td>46.000000</td>\n",
       "      <td>2015.000000</td>\n",
       "    </tr>\n",
       "  </tbody>\n",
       "</table>\n",
       "</div>"
      ],
      "text/plain": [
       "         EmployeeID           age  length_of_service    store_name  \\\n",
       "count  49653.000000  49653.000000       49653.000000  49653.000000   \n",
       "mean    4859.495740     42.077035          10.434596     27.297605   \n",
       "std     1826.571142     12.427257           6.325286     13.514134   \n",
       "min     1318.000000     19.000000           0.000000      1.000000   \n",
       "1%      1417.000000     20.000000           0.000000      1.000000   \n",
       "25%     3360.000000     31.000000           5.000000     16.000000   \n",
       "50%     5031.000000     42.000000          10.000000     28.000000   \n",
       "75%     6335.000000     53.000000          15.000000     42.000000   \n",
       "99%     8157.480000     65.000000          24.000000     46.000000   \n",
       "max     8336.000000     65.000000          26.000000     46.000000   \n",
       "\n",
       "        STATUS_YEAR  \n",
       "count  49653.000000  \n",
       "mean    2010.612612  \n",
       "std        2.845577  \n",
       "min     2006.000000  \n",
       "1%      2006.000000  \n",
       "25%     2008.000000  \n",
       "50%     2011.000000  \n",
       "75%     2013.000000  \n",
       "99%     2015.000000  \n",
       "max     2015.000000  "
      ]
     },
     "execution_count": 9,
     "metadata": {},
     "output_type": "execute_result"
    }
   ],
   "source": [
    "data.describe(percentiles=[0.01,0.25,0.50,0.75,0.99])\n",
    "# there is no any outliers "
   ]
  },
  {
   "cell_type": "code",
   "execution_count": 10,
   "metadata": {},
   "outputs": [],
   "source": [
    "data.drop(['gender_full'],axis=1,inplace=True)"
   ]
  },
  {
   "cell_type": "code",
   "execution_count": 11,
   "metadata": {},
   "outputs": [
    {
     "data": {
      "text/html": [
       "<div>\n",
       "<style scoped>\n",
       "    .dataframe tbody tr th:only-of-type {\n",
       "        vertical-align: middle;\n",
       "    }\n",
       "\n",
       "    .dataframe tbody tr th {\n",
       "        vertical-align: top;\n",
       "    }\n",
       "\n",
       "    .dataframe thead th {\n",
       "        text-align: right;\n",
       "    }\n",
       "</style>\n",
       "<table border=\"1\" class=\"dataframe\">\n",
       "  <thead>\n",
       "    <tr style=\"text-align: right;\">\n",
       "      <th></th>\n",
       "      <th>city_name</th>\n",
       "      <th>department_name</th>\n",
       "      <th>job_title</th>\n",
       "      <th>gender_short</th>\n",
       "      <th>termreason_desc</th>\n",
       "      <th>termtype_desc</th>\n",
       "      <th>STATUS</th>\n",
       "      <th>BUSINESS_UNIT</th>\n",
       "    </tr>\n",
       "  </thead>\n",
       "  <tbody>\n",
       "    <tr>\n",
       "      <th>count</th>\n",
       "      <td>49653</td>\n",
       "      <td>49653</td>\n",
       "      <td>49653</td>\n",
       "      <td>49653</td>\n",
       "      <td>49653</td>\n",
       "      <td>49653</td>\n",
       "      <td>49653</td>\n",
       "      <td>49653</td>\n",
       "    </tr>\n",
       "    <tr>\n",
       "      <th>unique</th>\n",
       "      <td>40</td>\n",
       "      <td>21</td>\n",
       "      <td>47</td>\n",
       "      <td>2</td>\n",
       "      <td>4</td>\n",
       "      <td>3</td>\n",
       "      <td>2</td>\n",
       "      <td>2</td>\n",
       "    </tr>\n",
       "    <tr>\n",
       "      <th>top</th>\n",
       "      <td>Vancouver</td>\n",
       "      <td>Meats</td>\n",
       "      <td>Meat Cutter</td>\n",
       "      <td>F</td>\n",
       "      <td>Not Applicable</td>\n",
       "      <td>Not Applicable</td>\n",
       "      <td>ACTIVE</td>\n",
       "      <td>STORES</td>\n",
       "    </tr>\n",
       "    <tr>\n",
       "      <th>freq</th>\n",
       "      <td>11211</td>\n",
       "      <td>10269</td>\n",
       "      <td>9984</td>\n",
       "      <td>25898</td>\n",
       "      <td>48168</td>\n",
       "      <td>48168</td>\n",
       "      <td>48168</td>\n",
       "      <td>49068</td>\n",
       "    </tr>\n",
       "  </tbody>\n",
       "</table>\n",
       "</div>"
      ],
      "text/plain": [
       "        city_name department_name    job_title gender_short termreason_desc  \\\n",
       "count       49653           49653        49653        49653           49653   \n",
       "unique         40              21           47            2               4   \n",
       "top     Vancouver           Meats  Meat Cutter            F  Not Applicable   \n",
       "freq        11211           10269         9984        25898           48168   \n",
       "\n",
       "         termtype_desc  STATUS BUSINESS_UNIT  \n",
       "count            49653   49653         49653  \n",
       "unique               3       2             2  \n",
       "top     Not Applicable  ACTIVE        STORES  \n",
       "freq             48168   48168         49068  "
      ]
     },
     "execution_count": 11,
     "metadata": {},
     "output_type": "execute_result"
    }
   ],
   "source": [
    "# Summarise the non-numerical data\n",
    "data.describe(include=['O'])"
   ]
  },
  {
   "cell_type": "markdown",
   "metadata": {},
   "source": [
    "```\n",
    "- the first think i work with is the jon titles there are more than 40 title i will create new categories for job titles\n",
    "```"
   ]
  },
  {
   "cell_type": "code",
   "execution_count": 12,
   "metadata": {},
   "outputs": [
    {
     "data": {
      "text/plain": [
       "Meat Cutter                        9984\n",
       "Dairy Person                       8590\n",
       "Produce Clerk                      8237\n",
       "Baker                              8096\n",
       "Cashier                            6816\n",
       "Shelf Stocker                      5622\n",
       "Customer Service Manager            306\n",
       "Processed Foods Manager             289\n",
       "Bakery Manager                      285\n",
       "Meats Manager                       285\n",
       "Produce Manager                     278\n",
       "Store Manager                       271\n",
       "Recruiter                            62\n",
       "HRIS Analyst                         55\n",
       "Accounting Clerk                     50\n",
       "Benefits Admin                       35\n",
       "Labor Relations Analyst              30\n",
       "Accounts Receiveable Clerk           30\n",
       "Trainer                              26\n",
       "Accounts Payable Clerk               25\n",
       "Auditor                              20\n",
       "Systems Analyst                      20\n",
       "Investment Analyst                   20\n",
       "Compensation Analyst                 20\n",
       "Corporate Lawyer                     17\n",
       "CEO                                  10\n",
       "Exec Assistant, VP Stores            10\n",
       "Legal Counsel                        10\n",
       "VP Stores                            10\n",
       "VP Human Resources                   10\n",
       "VP Finance                           10\n",
       "Director, Recruitment                10\n",
       "Exec Assistant, Finance              10\n",
       "Exec Assistant, Human Resources      10\n",
       "CHief Information Officer            10\n",
       "Exec Assistant, Legal Counsel        10\n",
       "Director, Accounts Payable            9\n",
       "Director, Accounts Receivable         9\n",
       "Director, Employee Records            9\n",
       "Director, HR Technology               9\n",
       "Dairy Manager                         9\n",
       "Director, Accounting                  9\n",
       "Director, Investments                 4\n",
       "Director, Labor Relations             4\n",
       "Director, Compensation                4\n",
       "Director, Audit                       4\n",
       "Director, Training                    4\n",
       "Name: job_title, dtype: int64"
      ]
     },
     "execution_count": 12,
     "metadata": {},
     "output_type": "execute_result"
    }
   ],
   "source": [
    "# Create new categories for job titles\n",
    "\n",
    "data.job_title.value_counts()"
   ]
  },
  {
   "cell_type": "code",
   "execution_count": 13,
   "metadata": {},
   "outputs": [
    {
     "name": "stdout",
     "output_type": "stream",
     "text": [
      "Total jobs categorised: 47 out of 47\n"
     ]
    }
   ],
   "source": [
    "#The 47 jobs can be separated according to corporate hierarchy\n",
    "# Use employee, manager, and combined executives and board \n",
    "employee = ['Meat Cutter', 'Dairy Person', 'Produce Clerk', 'Baker', 'Cashier',\n",
    "            'Shelf Stocker', 'Recruiter', 'HRIS Analyst', 'Accounting Clerk',\n",
    "            'Benefits Admin', 'Labor Relations Analyst', 'Accounts Receiveable Clerk',\n",
    "            'Accounts Payable Clerk', 'Auditor', 'Compensation Analyst',\n",
    "            'Investment Analyst', 'Systems Analyst', 'Corporate Lawyer', 'Legal Counsel']\n",
    "\n",
    "manager = ['Customer Service Manager', 'Processed Foods Manager', 'Meats Manager',\n",
    "           'Bakery Manager', 'Produce Manager', 'Store Manager', 'Trainer', 'Dairy Manager']\n",
    "\n",
    "executive = [ 'Exec Assistant, VP Stores', 'Exec Assistant, Legal Counsel', 'CHief Information Officer', \n",
    "             'Exec Assistant, Human Resources', 'Exec Assistant, Finance','CEO']\n",
    "\n",
    "board = ['VP Stores', 'Director, Recruitment', 'VP Human Resources', 'VP Finance',\n",
    "         'Director, Accounts Receivable', 'Director, Accounting',\n",
    "         'Director, Employee Records', 'Director, Accounts Payable',\n",
    "         'Director, HR Technology', 'Director, Investments',\n",
    "         'Director, Labor Relations', 'Director, Audit', 'Director, Training',\n",
    "         'Director, Compensation']\n",
    "\n",
    "# Check all jobs were entered into the categories\n",
    "total = len(employee) + len(manager) + len(executive) + len(board)\n",
    "print('Total jobs categorised:', total, 'out of 47')"
   ]
  },
  {
   "cell_type": "code",
   "execution_count": 14,
   "metadata": {},
   "outputs": [],
   "source": [
    "# funcation to enter data to Hierarchy feature\n",
    "def Convert_job_title(job):\n",
    "    if job in board: return 'Board'\n",
    "    if job in executive: return 'Executive'\n",
    "    if job in manager: return 'Manager'\n",
    "    if job in employee: return 'Employee'\n",
    "\n",
    "data['Hierarchy'] = data['job_title'].map(Convert_job_title)"
   ]
  },
  {
   "cell_type": "code",
   "execution_count": 15,
   "metadata": {},
   "outputs": [
    {
     "data": {
      "text/html": [
       "<div>\n",
       "<style scoped>\n",
       "    .dataframe tbody tr th:only-of-type {\n",
       "        vertical-align: middle;\n",
       "    }\n",
       "\n",
       "    .dataframe tbody tr th {\n",
       "        vertical-align: top;\n",
       "    }\n",
       "\n",
       "    .dataframe thead th {\n",
       "        text-align: right;\n",
       "    }\n",
       "</style>\n",
       "<table border=\"1\" class=\"dataframe\">\n",
       "  <thead>\n",
       "    <tr style=\"text-align: right;\">\n",
       "      <th></th>\n",
       "      <th>EmployeeID</th>\n",
       "      <th>recorddate_key</th>\n",
       "      <th>birthdate_key</th>\n",
       "      <th>orighiredate_key</th>\n",
       "      <th>terminationdate_key</th>\n",
       "      <th>age</th>\n",
       "      <th>length_of_service</th>\n",
       "      <th>city_name</th>\n",
       "      <th>department_name</th>\n",
       "      <th>job_title</th>\n",
       "      <th>store_name</th>\n",
       "      <th>gender_short</th>\n",
       "      <th>termreason_desc</th>\n",
       "      <th>termtype_desc</th>\n",
       "      <th>STATUS_YEAR</th>\n",
       "      <th>STATUS</th>\n",
       "      <th>BUSINESS_UNIT</th>\n",
       "      <th>Hierarchy</th>\n",
       "    </tr>\n",
       "  </thead>\n",
       "  <tbody>\n",
       "    <tr>\n",
       "      <th>0</th>\n",
       "      <td>1318</td>\n",
       "      <td>2006-12-31</td>\n",
       "      <td>1954-01-03</td>\n",
       "      <td>1989-08-28</td>\n",
       "      <td>1900-01-01</td>\n",
       "      <td>52</td>\n",
       "      <td>17</td>\n",
       "      <td>Vancouver</td>\n",
       "      <td>Executive</td>\n",
       "      <td>CEO</td>\n",
       "      <td>35</td>\n",
       "      <td>M</td>\n",
       "      <td>Not Applicable</td>\n",
       "      <td>Not Applicable</td>\n",
       "      <td>2006</td>\n",
       "      <td>ACTIVE</td>\n",
       "      <td>HEADOFFICE</td>\n",
       "      <td>Executive</td>\n",
       "    </tr>\n",
       "    <tr>\n",
       "      <th>1</th>\n",
       "      <td>1318</td>\n",
       "      <td>2007-12-31</td>\n",
       "      <td>1954-01-03</td>\n",
       "      <td>1989-08-28</td>\n",
       "      <td>1900-01-01</td>\n",
       "      <td>53</td>\n",
       "      <td>18</td>\n",
       "      <td>Vancouver</td>\n",
       "      <td>Executive</td>\n",
       "      <td>CEO</td>\n",
       "      <td>35</td>\n",
       "      <td>M</td>\n",
       "      <td>Not Applicable</td>\n",
       "      <td>Not Applicable</td>\n",
       "      <td>2007</td>\n",
       "      <td>ACTIVE</td>\n",
       "      <td>HEADOFFICE</td>\n",
       "      <td>Executive</td>\n",
       "    </tr>\n",
       "    <tr>\n",
       "      <th>2</th>\n",
       "      <td>1318</td>\n",
       "      <td>2008-12-31</td>\n",
       "      <td>1954-01-03</td>\n",
       "      <td>1989-08-28</td>\n",
       "      <td>1900-01-01</td>\n",
       "      <td>54</td>\n",
       "      <td>19</td>\n",
       "      <td>Vancouver</td>\n",
       "      <td>Executive</td>\n",
       "      <td>CEO</td>\n",
       "      <td>35</td>\n",
       "      <td>M</td>\n",
       "      <td>Not Applicable</td>\n",
       "      <td>Not Applicable</td>\n",
       "      <td>2008</td>\n",
       "      <td>ACTIVE</td>\n",
       "      <td>HEADOFFICE</td>\n",
       "      <td>Executive</td>\n",
       "    </tr>\n",
       "    <tr>\n",
       "      <th>3</th>\n",
       "      <td>1318</td>\n",
       "      <td>2009-12-31</td>\n",
       "      <td>1954-01-03</td>\n",
       "      <td>1989-08-28</td>\n",
       "      <td>1900-01-01</td>\n",
       "      <td>55</td>\n",
       "      <td>20</td>\n",
       "      <td>Vancouver</td>\n",
       "      <td>Executive</td>\n",
       "      <td>CEO</td>\n",
       "      <td>35</td>\n",
       "      <td>M</td>\n",
       "      <td>Not Applicable</td>\n",
       "      <td>Not Applicable</td>\n",
       "      <td>2009</td>\n",
       "      <td>ACTIVE</td>\n",
       "      <td>HEADOFFICE</td>\n",
       "      <td>Executive</td>\n",
       "    </tr>\n",
       "    <tr>\n",
       "      <th>4</th>\n",
       "      <td>1318</td>\n",
       "      <td>2010-12-31</td>\n",
       "      <td>1954-01-03</td>\n",
       "      <td>1989-08-28</td>\n",
       "      <td>1900-01-01</td>\n",
       "      <td>56</td>\n",
       "      <td>21</td>\n",
       "      <td>Vancouver</td>\n",
       "      <td>Executive</td>\n",
       "      <td>CEO</td>\n",
       "      <td>35</td>\n",
       "      <td>M</td>\n",
       "      <td>Not Applicable</td>\n",
       "      <td>Not Applicable</td>\n",
       "      <td>2010</td>\n",
       "      <td>ACTIVE</td>\n",
       "      <td>HEADOFFICE</td>\n",
       "      <td>Executive</td>\n",
       "    </tr>\n",
       "  </tbody>\n",
       "</table>\n",
       "</div>"
      ],
      "text/plain": [
       "   EmployeeID recorddate_key birthdate_key orighiredate_key  \\\n",
       "0        1318     2006-12-31    1954-01-03       1989-08-28   \n",
       "1        1318     2007-12-31    1954-01-03       1989-08-28   \n",
       "2        1318     2008-12-31    1954-01-03       1989-08-28   \n",
       "3        1318     2009-12-31    1954-01-03       1989-08-28   \n",
       "4        1318     2010-12-31    1954-01-03       1989-08-28   \n",
       "\n",
       "  terminationdate_key  age  length_of_service  city_name department_name  \\\n",
       "0          1900-01-01   52                 17  Vancouver       Executive   \n",
       "1          1900-01-01   53                 18  Vancouver       Executive   \n",
       "2          1900-01-01   54                 19  Vancouver       Executive   \n",
       "3          1900-01-01   55                 20  Vancouver       Executive   \n",
       "4          1900-01-01   56                 21  Vancouver       Executive   \n",
       "\n",
       "  job_title  store_name gender_short termreason_desc   termtype_desc  \\\n",
       "0       CEO          35            M  Not Applicable  Not Applicable   \n",
       "1       CEO          35            M  Not Applicable  Not Applicable   \n",
       "2       CEO          35            M  Not Applicable  Not Applicable   \n",
       "3       CEO          35            M  Not Applicable  Not Applicable   \n",
       "4       CEO          35            M  Not Applicable  Not Applicable   \n",
       "\n",
       "   STATUS_YEAR  STATUS BUSINESS_UNIT  Hierarchy  \n",
       "0         2006  ACTIVE    HEADOFFICE  Executive  \n",
       "1         2007  ACTIVE    HEADOFFICE  Executive  \n",
       "2         2008  ACTIVE    HEADOFFICE  Executive  \n",
       "3         2009  ACTIVE    HEADOFFICE  Executive  \n",
       "4         2010  ACTIVE    HEADOFFICE  Executive  "
      ]
     },
     "execution_count": 15,
     "metadata": {},
     "output_type": "execute_result"
    }
   ],
   "source": [
    "data.head()"
   ]
  },
  {
   "cell_type": "code",
   "execution_count": 16,
   "metadata": {},
   "outputs": [
    {
     "data": {
      "text/plain": [
       "array(['Executive', 'Board', 'Employee', 'Manager'], dtype=object)"
      ]
     },
     "execution_count": 16,
     "metadata": {},
     "output_type": "execute_result"
    }
   ],
   "source": [
    "data.Hierarchy.unique()"
   ]
  },
  {
   "cell_type": "markdown",
   "metadata": {},
   "source": [
    "# Data Visualisation"
   ]
  },
  {
   "cell_type": "code",
   "execution_count": 17,
   "metadata": {},
   "outputs": [],
   "source": [
    "# set a new figsize to all figure\n",
    "plt.rcParams['figure.figsize'] = (12, 8)\n"
   ]
  },
  {
   "cell_type": "code",
   "execution_count": 18,
   "metadata": {},
   "outputs": [
    {
     "data": {
      "text/plain": [
       "array(['ACTIVE', 'TERMINATED'], dtype=object)"
      ]
     },
     "execution_count": 18,
     "metadata": {},
     "output_type": "execute_result"
    }
   ],
   "source": [
    "# check the unique value of the target \n",
    "data.STATUS.unique()"
   ]
  },
  {
   "cell_type": "code",
   "execution_count": 19,
   "metadata": {},
   "outputs": [],
   "source": [
    "#split the data to two datasets one represent the terminated and other for active ones\n",
    "out_of_co = data[data.STATUS == 'TERMINATED']\n",
    "in_co = data[data.STATUS == 'ACTIVE']"
   ]
  },
  {
   "cell_type": "code",
   "execution_count": 20,
   "metadata": {},
   "outputs": [
    {
     "data": {
      "text/plain": [
       "Text(0.5, 1.0, 'In company')"
      ]
     },
     "execution_count": 20,
     "metadata": {},
     "output_type": "execute_result"
    },
    {
     "data": {
      "image/png": "[encoded data removed]",
      "text/plain": [
       "<Figure size 864x576 with 2 Axes>"
      ]
     },
     "metadata": {
      "needs_background": "light"
     },
     "output_type": "display_data"
    }
   ],
   "source": [
    "# scatter the two datasets next to each other\n",
    "f, (ax1, ax2) = plt.subplots(1, 2)\n",
    "\n",
    "ax1.scatter(out_of_co.age, out_of_co.length_of_service, color='r')\n",
    "ax1.set_xlabel('Age')\n",
    "ax1.set_ylabel('Length of service')\n",
    "ax1.set_title('Out of company')\n",
    "\n",
    "ax2.scatter(in_co.age, in_co.length_of_service, color='g')\n",
    "ax2.set_xlabel('Age')\n",
    "ax2.set_title('In company')"
   ]
  },
  {
   "cell_type": "code",
   "execution_count": 21,
   "metadata": {},
   "outputs": [
    {
     "name": "stderr",
     "output_type": "stream",
     "text": [
      "C:\\Users\\zahra\\AppData\\Local\\Packages\\PythonSoftwareFoundation.Python.3.9_qbz5n2kfra8p0\\LocalCache\\local-packages\\Python39\\site-packages\\seaborn\\_decorators.py:36: FutureWarning: Pass the following variables as keyword args: x, y. From version 0.12, the only valid positional argument will be `data`, and passing other arguments without an explicit keyword will result in an error or misinterpretation.\n",
      "  warnings.warn(\n"
     ]
    },
    {
     "data": {
      "image/png": "[encoded data removed]",
      "text/plain": [
       "<Figure size 432x432 with 3 Axes>"
      ]
     },
     "metadata": {
      "needs_background": "light"
     },
     "output_type": "display_data"
    }
   ],
   "source": [
    "# see by details the out_of_company data \n",
    "g = sns.jointplot(out_of_co.age, out_of_co.length_of_service, color='r')"
   ]
  },
  {
   "cell_type": "markdown",
   "metadata": {},
   "source": [
    "\n",
    "- There appear to be 2 peaks in the age when people stop working. There are 4 major peaks in the length of service before people stop working.\n",
    "\n",
    "- The largest age peak of above 60 years old overlaps the service peak of 25 years. This would be people who are retiring from the work force.\n",
    "- The second largest age peak of 20-25 years old overlaps the service peak of 0 years. This is likely people who are trying jobs to find something they would like.\n",
    "\n",
    "- The largest service peak of around 13 years overlaps with the age peak of above 60 years and with ages between 40-50."
   ]
  },
  {
   "cell_type": "code",
   "execution_count": 22,
   "metadata": {},
   "outputs": [
    {
     "name": "stderr",
     "output_type": "stream",
     "text": [
      "C:\\Users\\zahra\\AppData\\Local\\Packages\\PythonSoftwareFoundation.Python.3.9_qbz5n2kfra8p0\\LocalCache\\local-packages\\Python39\\site-packages\\seaborn\\_decorators.py:36: FutureWarning: Pass the following variables as keyword args: x, y. From version 0.12, the only valid positional argument will be `data`, and passing other arguments without an explicit keyword will result in an error or misinterpretation.\n",
      "  warnings.warn(\n"
     ]
    },
    {
     "data": {
      "image/png": "[encoded data removed]",
      "text/plain": [
       "<Figure size 432x432 with 3 Axes>"
      ]
     },
     "metadata": {
      "needs_background": "light"
     },
     "output_type": "display_data"
    }
   ],
   "source": [
    "g = sns.jointplot(in_co.age, in_co.length_of_service, color='b')"
   ]
  },
  {
   "cell_type": "markdown",
   "metadata": {},
   "source": [
    "\n",
    "There appear to be 5 peaks in the age when people stop working. There are nearly a uniform distribution in the length of service expect the 25 year length.\n",
    "\n",
    "- all the peaks in the age a nearly looks a like and they are at 27 ,34,45,49 and 57"
   ]
  },
  {
   "cell_type": "code",
   "execution_count": 23,
   "metadata": {},
   "outputs": [
    {
     "data": {
      "image/png": "[encoded data removed]",
      "text/plain": [
       "<Figure size 722.125x216 with 3 Axes>"
      ]
     },
     "metadata": {
      "needs_background": "light"
     },
     "output_type": "display_data"
    }
   ],
   "source": [
    "# When someone leaves the company, look at their age, length of service.\n",
    "# and position in hierarchy. Separated by gender\n",
    "g = sns.FacetGrid(out_of_co, col='Hierarchy', palette='Set1_r', \n",
    "                  hue='gender_short', margin_titles=True) \n",
    "g = (g.map(plt.scatter, 'age', 'length_of_service').add_legend())"
   ]
  },
  {
   "cell_type": "markdown",
   "metadata": {},
   "source": [
    "- Nobody has stopped employment when they were at executive level.\n",
    "- There does not appear to be a major difference in employment termination between males and females.\n",
    "- Managers and board members stop employment after at least 14 years of service. This means that they were likely internally promoted to those positions.\n",
    "- Managers and board members stop employment after at least 40 years old."
   ]
  },
  {
   "cell_type": "code",
   "execution_count": 24,
   "metadata": {},
   "outputs": [
    {
     "data": {
      "image/png": "[encoded data removed]",
      "text/plain": [
       "<Figure size 741.625x216 with 3 Axes>"
      ]
     },
     "metadata": {
      "needs_background": "light"
     },
     "output_type": "display_data"
    }
   ],
   "source": [
    "g = sns.FacetGrid(out_of_co, col='termreason_desc', palette='Set1_r', \n",
    "                  hue='termreason_desc', margin_titles=True)\n",
    "g = (g.map(plt.scatter, 'age', 'length_of_service').add_legend())"
   ]
  },
  {
   "cell_type": "markdown",
   "metadata": {},
   "source": [
    "\n",
    "- Layoffs occur for all ages and all s|ervice lengths.\n",
    "- Resignations are at the first 10 years of service after this the Resignations get lower\n",
    "- the Retirement is after 60 year old to 64 year old \n"
   ]
  },
  {
   "cell_type": "code",
   "execution_count": 25,
   "metadata": {},
   "outputs": [
    {
     "data": {
      "text/plain": [
       "<AxesSubplot:>"
      ]
     },
     "execution_count": 25,
     "metadata": {},
     "output_type": "execute_result"
    },
    {
     "data": {
      "image/png": "[encoded data removed]",
      "text/plain": [
       "<Figure size 864x576 with 1 Axes>"
      ]
     },
     "metadata": {
      "needs_background": "light"
     },
     "output_type": "display_data"
    }
   ],
   "source": [
    "# Out of interest, look at number of terminations per year.\n",
    "# Count terminations per year\n",
    "term_per_year = Counter(out_of_co.STATUS_YEAR)\n",
    "term_per_year_df = pd.DataFrame.from_dict(term_per_year, orient='index')\n",
    "term_per_year_df = term_per_year_df.sort_index()\n",
    "term_per_year_df.plot(kind='bar')"
   ]
  },
  {
   "cell_type": "markdown",
   "metadata": {},
   "source": [
    "- 2014 had an unusually high number of employment terminations.\n",
    "- There was a peak in employment terminations in 2007-2008.\n",
    "- There is another peak in 2012.\n",
    "- Employment terminations in 2015 is similar to the employment terminations in 2007-2008 but much lower than the 2014 peak."
   ]
  },
  {
   "cell_type": "code",
   "execution_count": 26,
   "metadata": {},
   "outputs": [
    {
     "data": {
      "text/plain": [
       "<AxesSubplot:xlabel='STATUS_YEAR', ylabel='count'>"
      ]
     },
     "execution_count": 26,
     "metadata": {},
     "output_type": "execute_result"
    },
    {
     "data": {
      "image/png": "[encoded data removed]",
      "text/plain": [
       "<Figure size 864x576 with 1 Axes>"
      ]
     },
     "metadata": {
      "needs_background": "light"
     },
     "output_type": "display_data"
    }
   ],
   "source": [
    "sns.countplot(x=out_of_co.STATUS_YEAR,hue=data['termreason_desc'])"
   ]
  },
  {
   "cell_type": "markdown",
   "metadata": {},
   "source": [
    "- the layoff start at the last two years \n",
    "- Retirements peak were at 2007-2008 and lowest Retirements were at 2011 \n",
    "- Resignatons peak were at 2011-2012 and were very low at 2006\n",
    "- with the years flow the Retirements are getting lower where the Resignatons are getting higher "
   ]
  },
  {
   "cell_type": "code",
   "execution_count": 27,
   "metadata": {},
   "outputs": [
    {
     "data": {
      "text/plain": [
       "<AxesSubplot:xlabel='STATUS_YEAR', ylabel='count'>"
      ]
     },
     "execution_count": 27,
     "metadata": {},
     "output_type": "execute_result"
    },
    {
     "data": {
      "image/png": "[encoded data removed]",
      "text/plain": [
       "<Figure size 864x576 with 1 Axes>"
      ]
     },
     "metadata": {
      "needs_background": "light"
     },
     "output_type": "display_data"
    }
   ],
   "source": [
    "plt.figure( figsize=(12,8))\n",
    "sns.countplot(x=out_of_co.STATUS_YEAR,hue=data['gender_short'])"
   ]
  },
  {
   "cell_type": "markdown",
   "metadata": {},
   "source": [
    "- untill 2010 the ratio between females and males who get terminated is nearly equal \n",
    "- after 2010 the females are get terminated more and more and this is obvise in the last 4 years "
   ]
  },
  {
   "cell_type": "code",
   "execution_count": 28,
   "metadata": {},
   "outputs": [
    {
     "data": {
      "text/plain": [
       "<AxesSubplot:xlabel='STATUS_YEAR', ylabel='count'>"
      ]
     },
     "execution_count": 28,
     "metadata": {},
     "output_type": "execute_result"
    },
    {
     "data": {
      "image/png": "[encoded data removed]",
      "text/plain": [
       "<Figure size 864x576 with 1 Axes>"
      ]
     },
     "metadata": {
      "needs_background": "light"
     },
     "output_type": "display_data"
    }
   ],
   "source": [
    "\n",
    "sns.countplot(x=out_of_co.STATUS_YEAR,hue=data['termtype_desc'])"
   ]
  },
  {
   "cell_type": "markdown",
   "metadata": {},
   "source": [
    "- As expected, layoffs are involuntary, whereas resignations and retirements are voluntary."
   ]
  },
  {
   "cell_type": "code",
   "execution_count": 29,
   "metadata": {},
   "outputs": [
    {
     "data": {
      "text/plain": [
       "<AxesSubplot:xlabel='BUSINESS_UNIT', ylabel='count'>"
      ]
     },
     "execution_count": 29,
     "metadata": {},
     "output_type": "execute_result"
    },
    {
     "data": {
      "image/png": "[encoded data removed]",
      "text/plain": [
       "<Figure size 864x576 with 1 Axes>"
      ]
     },
     "metadata": {
      "needs_background": "light"
     },
     "output_type": "display_data"
    }
   ],
   "source": [
    "\n",
    "sns.countplot(x=data.BUSINESS_UNIT,hue=data['STATUS'],alpha =1)"
   ]
  },
  {
   "cell_type": "markdown",
   "metadata": {},
   "source": [
    "- As expected, Stores has way more employees than the Head office and that what make termantions is higher there "
   ]
  },
  {
   "cell_type": "code",
   "execution_count": 30,
   "metadata": {},
   "outputs": [
    {
     "data": {
      "text/plain": [
       "<AxesSubplot:xlabel='Hierarchy', ylabel='count'>"
      ]
     },
     "execution_count": 30,
     "metadata": {},
     "output_type": "execute_result"
    },
    {
     "data": {
      "image/png": "[encoded data removed]",
      "text/plain": [
       "<Figure size 864x576 with 1 Axes>"
      ]
     },
     "metadata": {
      "needs_background": "light"
     },
     "output_type": "display_data"
    }
   ],
   "source": [
    "sns.countplot(x=out_of_co.Hierarchy,hue=data['termreason_desc'],alpha = 1)"
   ]
  },
  {
   "cell_type": "markdown",
   "metadata": {},
   "source": [
    "- another plot to ptoof the last idea and show that all the Resignaton was in the Employee \n",
    "\n",
    "- mangers Retire or layoff board only Retire"
   ]
  },
  {
   "cell_type": "code",
   "execution_count": 31,
   "metadata": {},
   "outputs": [],
   "source": [
    "out_of_co_of_employee = out_of_co[out_of_co.Hierarchy == 'Employee']"
   ]
  },
  {
   "cell_type": "code",
   "execution_count": 43,
   "metadata": {},
   "outputs": [
    {
     "data": {
      "text/plain": [
       "<AxesSubplot:xlabel='department_name', ylabel='count'>"
      ]
     },
     "execution_count": 43,
     "metadata": {},
     "output_type": "execute_result"
    },
    {
     "data": {
      "image/png": "[encoded data removed]",
      "text/plain": [
       "<Figure size 1440x864 with 1 Axes>"
      ]
     },
     "metadata": {
      "needs_background": "light"
     },
     "output_type": "display_data"
    }
   ],
   "source": [
    "plt.figure( figsize=(20,12))\n",
    "sns.countplot(x=out_of_co_of_employee.department_name,hue=data['termreason_desc'])"
   ]
  },
  {
   "cell_type": "markdown",
   "metadata": {},
   "source": [
    "##### there are 4 peaks of retirement ,6 peaks of layoff and 6 peaks of Resignaton\n",
    "- the retirement peaks are :\n",
    "    1. Dairy\n",
    "    2. Meats\n",
    "    3. Bakery\n",
    "    4. Product\n",
    "- the layoff peaks are :\n",
    "    1. Dairy\n",
    "    2. Meats\n",
    "    3. Bakery\n",
    "    4. Product\n",
    "    5. Processed Food\n",
    "    6. Customer service\n",
    "- the Resignaton peaks are :\n",
    "    1. Dairy\n",
    "    2. Meats\n",
    "    3. Bakery\n",
    "    4. Product\n",
    "    5. Processed Food\n",
    "    6. Customer service\n",
    "##### there are 4 peaks in all of them (Dairy,Meats,Bakery and Product) the worst departments "
   ]
  },
  {
   "cell_type": "code",
   "execution_count": 56,
   "metadata": {},
   "outputs": [
    {
     "data": {
      "text/plain": [
       "46"
      ]
     },
     "execution_count": 56,
     "metadata": {},
     "output_type": "execute_result"
    }
   ],
   "source": [
    "max(out_of_co['store_name'].unique())\n",
    "# to know the exact number of stores "
   ]
  },
  {
   "cell_type": "code",
   "execution_count": 57,
   "metadata": {},
   "outputs": [
    {
     "data": {
      "text/plain": [
       "Text(0.5, 1.0, 'store_name')"
      ]
     },
     "execution_count": 57,
     "metadata": {},
     "output_type": "execute_result"
    },
    {
     "data": {
      "image/png": "[encoded data removed]",
      "text/plain": [
       "<Figure size 720x360 with 1 Axes>"
      ]
     },
     "metadata": {
      "needs_background": "light"
     },
     "output_type": "display_data"
    }
   ],
   "source": [
    "\n",
    "plt.figure(figsize=(10, 5))\n",
    "sns.histplot(out_of_co['store_name'], color = 'g', label = 'terminated',  kde = True,bins=46)\n",
    "plt.title('store_name', size = 14)"
   ]
  },
  {
   "cell_type": "markdown",
   "metadata": {},
   "source": [
    "- the largest store in terminations is store number: 35\n",
    "-there are other peaks like store (37,46,26 and 18) but the largest is 35.",
     "-that does not mean that this store is bad or anything."
   ]
  }
 ],
 "metadata": {
  "interpreter": {
   "hash": "c050e8fdd8a645a26722292127f0bca39a8d37a50c8399c1d61bc981107e8d8c"
  },
  "kernelspec": {
   "display_name": "Python 3.9.12 64-bit (windows store)",
   "language": "python",
   "name": "python3"
  },
  "language_info": {
   "codemirror_mode": {
    "name": "ipython",
    "version": 3
   },
   "file_extension": ".py",
   "mimetype": "text/x-python",
   "name": "python",
   "nbconvert_exporter": "python",
   "pygments_lexer": "ipython3",
   "version": "3.9.12"
  },
  "orig_nbformat": 4
 },
 "nbformat": 4,
 "nbformat_minor": 2
}
